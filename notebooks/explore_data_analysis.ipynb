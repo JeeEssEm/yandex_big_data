{
  "nbformat": 4,
  "nbformat_minor": 0,
  "metadata": {
    "colab": {
      "provenance": []
    },
    "kernelspec": {
      "name": "python3",
      "display_name": "Python 3"
    },
    "language_info": {
      "name": "python"
    }
  },
  "cells": [
    {
      "cell_type": "code",
      "execution_count": null,
      "metadata": {
        "colab": {
          "base_uri": "https://localhost:8080/"
        },
        "id": "y7XKYr51TlH2",
        "outputId": "e2b010a6-3b0c-4fc6-a567-df6f928618e3"
      },
      "outputs": [
        {
          "output_type": "stream",
          "name": "stdout",
          "text": [
            "id,vendor_id,pickup_datetime,dropoff_datetime,passenger_count,pickup_longitude,pickup_latitude,dropoff_longitude,dropoff_latitude,store_and_fwd_flag,trip_duration\n",
            "id1080784,2,2016-02-29 16:40:21,2016-02-29 16:47:01,1,-73.95391845703125,40.77887344360352,-73.96387481689453,40.77116394042969,N,400\n",
            "id0889885,1,2016-03-11 23:35:37,2016-03-11 23:53:57,2,-73.98831176757811,40.73174285888672,-73.9947509765625,40.69493103027344,N,1100\n",
            "id0857912,2,2016-02-21 17:59:33,2016-02-21 18:26:48,2,-73.997314453125,40.721458435058594,-73.94802856445312,40.774917602539055,N,1635\n",
            "id3744273,2,2016-01-05 09:44:31,2016-01-05 10:03:32,6,-73.961669921875,40.75971984863281,-73.95677947998048,40.780628204345696,N,1141\n",
            "id0232939,1,2016-02-17 06:42:23,2016-02-17 06:56:31,1,-74.01712036132812,40.70846939086913,-73.9881820678711,40.740631103515625,N,848\n",
            "id1918069,2,2016-02-14 18:31:42,2016-02-14 18:55:57,2,-73.99361419677734,40.75188446044922,-73.99542236328125,40.72386169433594,N,1455\n",
            "id2429028,1,2016-04-20 20:30:14,2016-04-20 20:36:51,1,-73.96508026123048,40.75891494750977,-73.976806640625,40.76410675048828,N,397\n",
            "id1663798,2,2016-06-19 16:48:14,2016-06-19 17:06:35,1,-73.96389007568358,40.76543426513672,-73.87242889404298,40.77420043945313,N,1101\n",
            "id2436943,2,2016-03-28 19:17:03,2016-03-28 19:48:29,2,-73.87288665771484,40.774280548095696,-73.97901916503906,40.761878967285156,N,1886\n"
          ]
        }
      ],
      "source": [
        "!head nyc_taxi_trip_duration.csv"
      ]
    },
    {
      "cell_type": "code",
      "source": [
        "import pandas as pd\n",
        "\n",
        "df = pd.read_csv('nyc_taxi_trip_duration.csv')\n",
        "df = df.dropna()\n",
        "df.info()"
      ],
      "metadata": {
        "id": "HE3BXvaJVEtE",
        "colab": {
          "base_uri": "https://localhost:8080/"
        },
        "outputId": "866e9814-6663-472f-c6d7-20d12452525b"
      },
      "execution_count": 1,
      "outputs": [
        {
          "output_type": "stream",
          "name": "stdout",
          "text": [
            "<class 'pandas.core.frame.DataFrame'>\n",
            "RangeIndex: 729322 entries, 0 to 729321\n",
            "Data columns (total 11 columns):\n",
            " #   Column              Non-Null Count   Dtype  \n",
            "---  ------              --------------   -----  \n",
            " 0   id                  729322 non-null  object \n",
            " 1   vendor_id           729322 non-null  int64  \n",
            " 2   pickup_datetime     729322 non-null  object \n",
            " 3   dropoff_datetime    729322 non-null  object \n",
            " 4   passenger_count     729322 non-null  int64  \n",
            " 5   pickup_longitude    729322 non-null  float64\n",
            " 6   pickup_latitude     729322 non-null  float64\n",
            " 7   dropoff_longitude   729322 non-null  float64\n",
            " 8   dropoff_latitude    729322 non-null  float64\n",
            " 9   store_and_fwd_flag  729322 non-null  object \n",
            " 10  trip_duration       729322 non-null  int64  \n",
            "dtypes: float64(4), int64(3), object(4)\n",
            "memory usage: 61.2+ MB\n"
          ]
        }
      ]
    },
    {
      "cell_type": "code",
      "source": [
        "from math import radians, cos, sin, acos, asin\n",
        "\n",
        "geo_columns = ['pickup_longitude', 'pickup_latitude', 'dropoff_longitude', 'dropoff_latitude']\n",
        "df[geo_columns] = df[geo_columns].apply(lambda x: x.apply(radians))\n",
        "df.head()"
      ],
      "metadata": {
        "colab": {
          "base_uri": "https://localhost:8080/",
          "height": 313
        },
        "id": "3-09_MZCp6ld",
        "outputId": "1fdd0141-dafb-4984-cae8-52a4d52c29f5"
      },
      "execution_count": 2,
      "outputs": [
        {
          "output_type": "execute_result",
          "data": {
            "text/plain": [
              "          id  vendor_id      pickup_datetime     dropoff_datetime  \\\n",
              "0  id1080784          2  2016-02-29 16:40:21  2016-02-29 16:47:01   \n",
              "1  id0889885          1  2016-03-11 23:35:37  2016-03-11 23:53:57   \n",
              "2  id0857912          2  2016-02-21 17:59:33  2016-02-21 18:26:48   \n",
              "3  id3744273          2  2016-01-05 09:44:31  2016-01-05 10:03:32   \n",
              "4  id0232939          1  2016-02-17 06:42:23  2016-02-17 06:56:31   \n",
              "\n",
              "   passenger_count  pickup_longitude  pickup_latitude  dropoff_longitude  \\\n",
              "0                1         -1.290739         0.711726          -1.290913   \n",
              "1                2         -1.291340         0.710903          -1.291452   \n",
              "2                2         -1.291497         0.710724          -1.290637   \n",
              "3                6         -1.290875         0.711391          -1.290789   \n",
              "4                1         -1.291842         0.710497          -1.291337   \n",
              "\n",
              "   dropoff_latitude store_and_fwd_flag  trip_duration  \n",
              "0          0.711591                  N            400  \n",
              "1          0.710261                  N           1100  \n",
              "2          0.711657                  N           1635  \n",
              "3          0.711756                  N           1141  \n",
              "4          0.711058                  N            848  "
            ],
            "text/html": [
              "\n",
              "  <div id=\"df-47c7ac29-36f3-4570-be5d-55933b306fb3\" class=\"colab-df-container\">\n",
              "    <div>\n",
              "<style scoped>\n",
              "    .dataframe tbody tr th:only-of-type {\n",
              "        vertical-align: middle;\n",
              "    }\n",
              "\n",
              "    .dataframe tbody tr th {\n",
              "        vertical-align: top;\n",
              "    }\n",
              "\n",
              "    .dataframe thead th {\n",
              "        text-align: right;\n",
              "    }\n",
              "</style>\n",
              "<table border=\"1\" class=\"dataframe\">\n",
              "  <thead>\n",
              "    <tr style=\"text-align: right;\">\n",
              "      <th></th>\n",
              "      <th>id</th>\n",
              "      <th>vendor_id</th>\n",
              "      <th>pickup_datetime</th>\n",
              "      <th>dropoff_datetime</th>\n",
              "      <th>passenger_count</th>\n",
              "      <th>pickup_longitude</th>\n",
              "      <th>pickup_latitude</th>\n",
              "      <th>dropoff_longitude</th>\n",
              "      <th>dropoff_latitude</th>\n",
              "      <th>store_and_fwd_flag</th>\n",
              "      <th>trip_duration</th>\n",
              "    </tr>\n",
              "  </thead>\n",
              "  <tbody>\n",
              "    <tr>\n",
              "      <th>0</th>\n",
              "      <td>id1080784</td>\n",
              "      <td>2</td>\n",
              "      <td>2016-02-29 16:40:21</td>\n",
              "      <td>2016-02-29 16:47:01</td>\n",
              "      <td>1</td>\n",
              "      <td>-1.290739</td>\n",
              "      <td>0.711726</td>\n",
              "      <td>-1.290913</td>\n",
              "      <td>0.711591</td>\n",
              "      <td>N</td>\n",
              "      <td>400</td>\n",
              "    </tr>\n",
              "    <tr>\n",
              "      <th>1</th>\n",
              "      <td>id0889885</td>\n",
              "      <td>1</td>\n",
              "      <td>2016-03-11 23:35:37</td>\n",
              "      <td>2016-03-11 23:53:57</td>\n",
              "      <td>2</td>\n",
              "      <td>-1.291340</td>\n",
              "      <td>0.710903</td>\n",
              "      <td>-1.291452</td>\n",
              "      <td>0.710261</td>\n",
              "      <td>N</td>\n",
              "      <td>1100</td>\n",
              "    </tr>\n",
              "    <tr>\n",
              "      <th>2</th>\n",
              "      <td>id0857912</td>\n",
              "      <td>2</td>\n",
              "      <td>2016-02-21 17:59:33</td>\n",
              "      <td>2016-02-21 18:26:48</td>\n",
              "      <td>2</td>\n",
              "      <td>-1.291497</td>\n",
              "      <td>0.710724</td>\n",
              "      <td>-1.290637</td>\n",
              "      <td>0.711657</td>\n",
              "      <td>N</td>\n",
              "      <td>1635</td>\n",
              "    </tr>\n",
              "    <tr>\n",
              "      <th>3</th>\n",
              "      <td>id3744273</td>\n",
              "      <td>2</td>\n",
              "      <td>2016-01-05 09:44:31</td>\n",
              "      <td>2016-01-05 10:03:32</td>\n",
              "      <td>6</td>\n",
              "      <td>-1.290875</td>\n",
              "      <td>0.711391</td>\n",
              "      <td>-1.290789</td>\n",
              "      <td>0.711756</td>\n",
              "      <td>N</td>\n",
              "      <td>1141</td>\n",
              "    </tr>\n",
              "    <tr>\n",
              "      <th>4</th>\n",
              "      <td>id0232939</td>\n",
              "      <td>1</td>\n",
              "      <td>2016-02-17 06:42:23</td>\n",
              "      <td>2016-02-17 06:56:31</td>\n",
              "      <td>1</td>\n",
              "      <td>-1.291842</td>\n",
              "      <td>0.710497</td>\n",
              "      <td>-1.291337</td>\n",
              "      <td>0.711058</td>\n",
              "      <td>N</td>\n",
              "      <td>848</td>\n",
              "    </tr>\n",
              "  </tbody>\n",
              "</table>\n",
              "</div>\n",
              "    <div class=\"colab-df-buttons\">\n",
              "\n",
              "  <div class=\"colab-df-container\">\n",
              "    <button class=\"colab-df-convert\" onclick=\"convertToInteractive('df-47c7ac29-36f3-4570-be5d-55933b306fb3')\"\n",
              "            title=\"Convert this dataframe to an interactive table.\"\n",
              "            style=\"display:none;\">\n",
              "\n",
              "  <svg xmlns=\"http://www.w3.org/2000/svg\" height=\"24px\" viewBox=\"0 -960 960 960\">\n",
              "    <path d=\"M120-120v-720h720v720H120Zm60-500h600v-160H180v160Zm220 220h160v-160H400v160Zm0 220h160v-160H400v160ZM180-400h160v-160H180v160Zm440 0h160v-160H620v160ZM180-180h160v-160H180v160Zm440 0h160v-160H620v160Z\"/>\n",
              "  </svg>\n",
              "    </button>\n",
              "\n",
              "  <style>\n",
              "    .colab-df-container {\n",
              "      display:flex;\n",
              "      gap: 12px;\n",
              "    }\n",
              "\n",
              "    .colab-df-convert {\n",
              "      background-color: #E8F0FE;\n",
              "      border: none;\n",
              "      border-radius: 50%;\n",
              "      cursor: pointer;\n",
              "      display: none;\n",
              "      fill: #1967D2;\n",
              "      height: 32px;\n",
              "      padding: 0 0 0 0;\n",
              "      width: 32px;\n",
              "    }\n",
              "\n",
              "    .colab-df-convert:hover {\n",
              "      background-color: #E2EBFA;\n",
              "      box-shadow: 0px 1px 2px rgba(60, 64, 67, 0.3), 0px 1px 3px 1px rgba(60, 64, 67, 0.15);\n",
              "      fill: #174EA6;\n",
              "    }\n",
              "\n",
              "    .colab-df-buttons div {\n",
              "      margin-bottom: 4px;\n",
              "    }\n",
              "\n",
              "    [theme=dark] .colab-df-convert {\n",
              "      background-color: #3B4455;\n",
              "      fill: #D2E3FC;\n",
              "    }\n",
              "\n",
              "    [theme=dark] .colab-df-convert:hover {\n",
              "      background-color: #434B5C;\n",
              "      box-shadow: 0px 1px 3px 1px rgba(0, 0, 0, 0.15);\n",
              "      filter: drop-shadow(0px 1px 2px rgba(0, 0, 0, 0.3));\n",
              "      fill: #FFFFFF;\n",
              "    }\n",
              "  </style>\n",
              "\n",
              "    <script>\n",
              "      const buttonEl =\n",
              "        document.querySelector('#df-47c7ac29-36f3-4570-be5d-55933b306fb3 button.colab-df-convert');\n",
              "      buttonEl.style.display =\n",
              "        google.colab.kernel.accessAllowed ? 'block' : 'none';\n",
              "\n",
              "      async function convertToInteractive(key) {\n",
              "        const element = document.querySelector('#df-47c7ac29-36f3-4570-be5d-55933b306fb3');\n",
              "        const dataTable =\n",
              "          await google.colab.kernel.invokeFunction('convertToInteractive',\n",
              "                                                    [key], {});\n",
              "        if (!dataTable) return;\n",
              "\n",
              "        const docLinkHtml = 'Like what you see? Visit the ' +\n",
              "          '<a target=\"_blank\" href=https://colab.research.google.com/notebooks/data_table.ipynb>data table notebook</a>'\n",
              "          + ' to learn more about interactive tables.';\n",
              "        element.innerHTML = '';\n",
              "        dataTable['output_type'] = 'display_data';\n",
              "        await google.colab.output.renderOutput(dataTable, element);\n",
              "        const docLink = document.createElement('div');\n",
              "        docLink.innerHTML = docLinkHtml;\n",
              "        element.appendChild(docLink);\n",
              "      }\n",
              "    </script>\n",
              "  </div>\n",
              "\n",
              "\n",
              "<div id=\"df-dbaa9715-ac5f-4958-a2a5-2c4f77b9bb79\">\n",
              "  <button class=\"colab-df-quickchart\" onclick=\"quickchart('df-dbaa9715-ac5f-4958-a2a5-2c4f77b9bb79')\"\n",
              "            title=\"Suggest charts\"\n",
              "            style=\"display:none;\">\n",
              "\n",
              "<svg xmlns=\"http://www.w3.org/2000/svg\" height=\"24px\"viewBox=\"0 0 24 24\"\n",
              "     width=\"24px\">\n",
              "    <g>\n",
              "        <path d=\"M19 3H5c-1.1 0-2 .9-2 2v14c0 1.1.9 2 2 2h14c1.1 0 2-.9 2-2V5c0-1.1-.9-2-2-2zM9 17H7v-7h2v7zm4 0h-2V7h2v10zm4 0h-2v-4h2v4z\"/>\n",
              "    </g>\n",
              "</svg>\n",
              "  </button>\n",
              "\n",
              "<style>\n",
              "  .colab-df-quickchart {\n",
              "      --bg-color: #E8F0FE;\n",
              "      --fill-color: #1967D2;\n",
              "      --hover-bg-color: #E2EBFA;\n",
              "      --hover-fill-color: #174EA6;\n",
              "      --disabled-fill-color: #AAA;\n",
              "      --disabled-bg-color: #DDD;\n",
              "  }\n",
              "\n",
              "  [theme=dark] .colab-df-quickchart {\n",
              "      --bg-color: #3B4455;\n",
              "      --fill-color: #D2E3FC;\n",
              "      --hover-bg-color: #434B5C;\n",
              "      --hover-fill-color: #FFFFFF;\n",
              "      --disabled-bg-color: #3B4455;\n",
              "      --disabled-fill-color: #666;\n",
              "  }\n",
              "\n",
              "  .colab-df-quickchart {\n",
              "    background-color: var(--bg-color);\n",
              "    border: none;\n",
              "    border-radius: 50%;\n",
              "    cursor: pointer;\n",
              "    display: none;\n",
              "    fill: var(--fill-color);\n",
              "    height: 32px;\n",
              "    padding: 0;\n",
              "    width: 32px;\n",
              "  }\n",
              "\n",
              "  .colab-df-quickchart:hover {\n",
              "    background-color: var(--hover-bg-color);\n",
              "    box-shadow: 0 1px 2px rgba(60, 64, 67, 0.3), 0 1px 3px 1px rgba(60, 64, 67, 0.15);\n",
              "    fill: var(--button-hover-fill-color);\n",
              "  }\n",
              "\n",
              "  .colab-df-quickchart-complete:disabled,\n",
              "  .colab-df-quickchart-complete:disabled:hover {\n",
              "    background-color: var(--disabled-bg-color);\n",
              "    fill: var(--disabled-fill-color);\n",
              "    box-shadow: none;\n",
              "  }\n",
              "\n",
              "  .colab-df-spinner {\n",
              "    border: 2px solid var(--fill-color);\n",
              "    border-color: transparent;\n",
              "    border-bottom-color: var(--fill-color);\n",
              "    animation:\n",
              "      spin 1s steps(1) infinite;\n",
              "  }\n",
              "\n",
              "  @keyframes spin {\n",
              "    0% {\n",
              "      border-color: transparent;\n",
              "      border-bottom-color: var(--fill-color);\n",
              "      border-left-color: var(--fill-color);\n",
              "    }\n",
              "    20% {\n",
              "      border-color: transparent;\n",
              "      border-left-color: var(--fill-color);\n",
              "      border-top-color: var(--fill-color);\n",
              "    }\n",
              "    30% {\n",
              "      border-color: transparent;\n",
              "      border-left-color: var(--fill-color);\n",
              "      border-top-color: var(--fill-color);\n",
              "      border-right-color: var(--fill-color);\n",
              "    }\n",
              "    40% {\n",
              "      border-color: transparent;\n",
              "      border-right-color: var(--fill-color);\n",
              "      border-top-color: var(--fill-color);\n",
              "    }\n",
              "    60% {\n",
              "      border-color: transparent;\n",
              "      border-right-color: var(--fill-color);\n",
              "    }\n",
              "    80% {\n",
              "      border-color: transparent;\n",
              "      border-right-color: var(--fill-color);\n",
              "      border-bottom-color: var(--fill-color);\n",
              "    }\n",
              "    90% {\n",
              "      border-color: transparent;\n",
              "      border-bottom-color: var(--fill-color);\n",
              "    }\n",
              "  }\n",
              "</style>\n",
              "\n",
              "  <script>\n",
              "    async function quickchart(key) {\n",
              "      const quickchartButtonEl =\n",
              "        document.querySelector('#' + key + ' button');\n",
              "      quickchartButtonEl.disabled = true;  // To prevent multiple clicks.\n",
              "      quickchartButtonEl.classList.add('colab-df-spinner');\n",
              "      try {\n",
              "        const charts = await google.colab.kernel.invokeFunction(\n",
              "            'suggestCharts', [key], {});\n",
              "      } catch (error) {\n",
              "        console.error('Error during call to suggestCharts:', error);\n",
              "      }\n",
              "      quickchartButtonEl.classList.remove('colab-df-spinner');\n",
              "      quickchartButtonEl.classList.add('colab-df-quickchart-complete');\n",
              "    }\n",
              "    (() => {\n",
              "      let quickchartButtonEl =\n",
              "        document.querySelector('#df-dbaa9715-ac5f-4958-a2a5-2c4f77b9bb79 button');\n",
              "      quickchartButtonEl.style.display =\n",
              "        google.colab.kernel.accessAllowed ? 'block' : 'none';\n",
              "    })();\n",
              "  </script>\n",
              "</div>\n",
              "    </div>\n",
              "  </div>\n"
            ]
          },
          "metadata": {},
          "execution_count": 2
        }
      ]
    },
    {
      "cell_type": "code",
      "source": [
        "def distance(test):\n",
        "  longitude1, latitude1, longitude2, latitude2 = test\n",
        "  degree_kilometres = 111.2\n",
        "  latitude_dif = degree_kilometres * abs(latitude2 - latitude1)\n",
        "  longitude_dif = abs(longitude1 - longitude2)\n",
        "  AD = degree_kilometres * cos(radians(latitude1)) * longitude_dif\n",
        "  BC = degree_kilometres * cos(radians(latitude2)) * longitude_dif\n",
        "  temp = (AD - BC) / 2\n",
        "  H = (latitude_dif ** 2 - temp ** 2) ** 0.5\n",
        "  return ((max(AD, BC) - temp) ** 2 + H ** 2) ** 0.5 * 1000\n",
        "\n",
        "df['metres'] = pd.DataFrame(map(distance, df[geo_columns].values))"
      ],
      "metadata": {
        "id": "tbu1NTU15-GQ"
      },
      "execution_count": 3,
      "outputs": []
    },
    {
      "cell_type": "code",
      "source": [
        "df['speed'] = df['metres'] / df['trip_duration']"
      ],
      "metadata": {
        "id": "fNKEDeiRGJjR"
      },
      "execution_count": 4,
      "outputs": []
    },
    {
      "cell_type": "code",
      "source": [
        "import matplotlib.pyplot as plt\n",
        "\n",
        "temp = df[df['speed'] > 1]\n",
        "temp.info()\n",
        "plt.hist(temp['speed'])"
      ],
      "metadata": {
        "colab": {
          "base_uri": "https://localhost:8080/",
          "height": 866
        },
        "id": "y7g3L6siKdGx",
        "outputId": "c8a5c38c-8b9c-41f9-a01d-5f01f76a8d11"
      },
      "execution_count": 17,
      "outputs": [
        {
          "output_type": "stream",
          "name": "stdout",
          "text": [
            "<class 'pandas.core.frame.DataFrame'>\n",
            "Int64Index: 38 entries, 13896 to 697620\n",
            "Data columns (total 13 columns):\n",
            " #   Column              Non-Null Count  Dtype  \n",
            "---  ------              --------------  -----  \n",
            " 0   id                  38 non-null     object \n",
            " 1   vendor_id           38 non-null     int64  \n",
            " 2   pickup_datetime     38 non-null     object \n",
            " 3   dropoff_datetime    38 non-null     object \n",
            " 4   passenger_count     38 non-null     int64  \n",
            " 5   pickup_longitude    38 non-null     float64\n",
            " 6   pickup_latitude     38 non-null     float64\n",
            " 7   dropoff_longitude   38 non-null     float64\n",
            " 8   dropoff_latitude    38 non-null     float64\n",
            " 9   store_and_fwd_flag  38 non-null     object \n",
            " 10  trip_duration       38 non-null     int64  \n",
            " 11  metres              38 non-null     float64\n",
            " 12  speed               38 non-null     float64\n",
            "dtypes: float64(6), int64(3), object(4)\n",
            "memory usage: 4.2+ KB\n"
          ]
        },
        {
          "output_type": "execute_result",
          "data": {
            "text/plain": [
              "(array([24.,  7.,  5.,  0.,  0.,  0.,  0.,  0.,  1.,  1.]),\n",
              " array([ 1.09711908,  3.73016714,  6.3632152 ,  8.99626326, 11.62931133,\n",
              "        14.26235939, 16.89540745, 19.52845551, 22.16150358, 24.79455164,\n",
              "        27.4275997 ]),\n",
              " <BarContainer object of 10 artists>)"
            ]
          },
          "metadata": {},
          "execution_count": 17
        },
        {
          "output_type": "display_data",
          "data": {
            "text/plain": [
              "<Figure size 640x480 with 1 Axes>"
            ],
            "image/png": "[encoded data removed]"
          },
          "metadata": {}
        }
      ]
    },
    {
      "cell_type": "code",
      "source": [
        "df['passenger_count'].unique()"
      ],
      "metadata": {
        "colab": {
          "base_uri": "https://localhost:8080/"
        },
        "id": "UFCDuIKFUgqh",
        "outputId": "fffcd3c5-40ca-4bf3-af0a-0412138d83f9"
      },
      "execution_count": 7,
      "outputs": [
        {
          "output_type": "execute_result",
          "data": {
            "text/plain": [
              "array([1, 2, 6, 3, 4, 5, 0, 7, 9])"
            ]
          },
          "metadata": {},
          "execution_count": 7
        }
      ]
    },
    {
      "cell_type": "code",
      "source": [
        "df.head()"
      ],
      "metadata": {
        "colab": {
          "base_uri": "https://localhost:8080/",
          "height": 313
        },
        "id": "yboZ5GzdUrUS",
        "outputId": "8e73b5f4-4310-4705-f1e6-d99d0ffe838f"
      },
      "execution_count": 8,
      "outputs": [
        {
          "output_type": "execute_result",
          "data": {
            "text/plain": [
              "          id  vendor_id      pickup_datetime     dropoff_datetime  \\\n",
              "0  id1080784          2  2016-02-29 16:40:21  2016-02-29 16:47:01   \n",
              "1  id0889885          1  2016-03-11 23:35:37  2016-03-11 23:53:57   \n",
              "2  id0857912          2  2016-02-21 17:59:33  2016-02-21 18:26:48   \n",
              "3  id3744273          2  2016-01-05 09:44:31  2016-01-05 10:03:32   \n",
              "4  id0232939          1  2016-02-17 06:42:23  2016-02-17 06:56:31   \n",
              "\n",
              "   passenger_count  pickup_longitude  pickup_latitude  dropoff_longitude  \\\n",
              "0                1         -1.290739         0.711726          -1.290913   \n",
              "1                2         -1.291340         0.710903          -1.291452   \n",
              "2                2         -1.291497         0.710724          -1.290637   \n",
              "3                6         -1.290875         0.711391          -1.290789   \n",
              "4                1         -1.291842         0.710497          -1.291337   \n",
              "\n",
              "   dropoff_latitude store_and_fwd_flag  trip_duration      metres     speed  \n",
              "0          0.711591                  N            400   24.437998  0.061095  \n",
              "1          0.710261                  N           1100   72.529246  0.065936  \n",
              "2          0.711657                  N           1635  141.114186  0.086308  \n",
              "3          0.711756                  N           1141   41.674132  0.036524  \n",
              "4          0.711058                  N            848   83.964749  0.099015  "
            ],
            "text/html": [
              "\n",
              "  <div id=\"df-aadf2f33-97c8-4238-87a6-654962b0b5b4\" class=\"colab-df-container\">\n",
              "    <div>\n",
              "<style scoped>\n",
              "    .dataframe tbody tr th:only-of-type {\n",
              "        vertical-align: middle;\n",
              "    }\n",
              "\n",
              "    .dataframe tbody tr th {\n",
              "        vertical-align: top;\n",
              "    }\n",
              "\n",
              "    .dataframe thead th {\n",
              "        text-align: right;\n",
              "    }\n",
              "</style>\n",
              "<table border=\"1\" class=\"dataframe\">\n",
              "  <thead>\n",
              "    <tr style=\"text-align: right;\">\n",
              "      <th></th>\n",
              "      <th>id</th>\n",
              "      <th>vendor_id</th>\n",
              "      <th>pickup_datetime</th>\n",
              "      <th>dropoff_datetime</th>\n",
              "      <th>passenger_count</th>\n",
              "      <th>pickup_longitude</th>\n",
              "      <th>pickup_latitude</th>\n",
              "      <th>dropoff_longitude</th>\n",
              "      <th>dropoff_latitude</th>\n",
              "      <th>store_and_fwd_flag</th>\n",
              "      <th>trip_duration</th>\n",
              "      <th>metres</th>\n",
              "      <th>speed</th>\n",
              "    </tr>\n",
              "  </thead>\n",
              "  <tbody>\n",
              "    <tr>\n",
              "      <th>0</th>\n",
              "      <td>id1080784</td>\n",
              "      <td>2</td>\n",
              "      <td>2016-02-29 16:40:21</td>\n",
              "      <td>2016-02-29 16:47:01</td>\n",
              "      <td>1</td>\n",
              "      <td>-1.290739</td>\n",
              "      <td>0.711726</td>\n",
              "      <td>-1.290913</td>\n",
              "      <td>0.711591</td>\n",
              "      <td>N</td>\n",
              "      <td>400</td>\n",
              "      <td>24.437998</td>\n",
              "      <td>0.061095</td>\n",
              "    </tr>\n",
              "    <tr>\n",
              "      <th>1</th>\n",
              "      <td>id0889885</td>\n",
              "      <td>1</td>\n",
              "      <td>2016-03-11 23:35:37</td>\n",
              "      <td>2016-03-11 23:53:57</td>\n",
              "      <td>2</td>\n",
              "      <td>-1.291340</td>\n",
              "      <td>0.710903</td>\n",
              "      <td>-1.291452</td>\n",
              "      <td>0.710261</td>\n",
              "      <td>N</td>\n",
              "      <td>1100</td>\n",
              "      <td>72.529246</td>\n",
              "      <td>0.065936</td>\n",
              "    </tr>\n",
              "    <tr>\n",
              "      <th>2</th>\n",
              "      <td>id0857912</td>\n",
              "      <td>2</td>\n",
              "      <td>2016-02-21 17:59:33</td>\n",
              "      <td>2016-02-21 18:26:48</td>\n",
              "      <td>2</td>\n",
              "      <td>-1.291497</td>\n",
              "      <td>0.710724</td>\n",
              "      <td>-1.290637</td>\n",
              "      <td>0.711657</td>\n",
              "      <td>N</td>\n",
              "      <td>1635</td>\n",
              "      <td>141.114186</td>\n",
              "      <td>0.086308</td>\n",
              "    </tr>\n",
              "    <tr>\n",
              "      <th>3</th>\n",
              "      <td>id3744273</td>\n",
              "      <td>2</td>\n",
              "      <td>2016-01-05 09:44:31</td>\n",
              "      <td>2016-01-05 10:03:32</td>\n",
              "      <td>6</td>\n",
              "      <td>-1.290875</td>\n",
              "      <td>0.711391</td>\n",
              "      <td>-1.290789</td>\n",
              "      <td>0.711756</td>\n",
              "      <td>N</td>\n",
              "      <td>1141</td>\n",
              "      <td>41.674132</td>\n",
              "      <td>0.036524</td>\n",
              "    </tr>\n",
              "    <tr>\n",
              "      <th>4</th>\n",
              "      <td>id0232939</td>\n",
              "      <td>1</td>\n",
              "      <td>2016-02-17 06:42:23</td>\n",
              "      <td>2016-02-17 06:56:31</td>\n",
              "      <td>1</td>\n",
              "      <td>-1.291842</td>\n",
              "      <td>0.710497</td>\n",
              "      <td>-1.291337</td>\n",
              "      <td>0.711058</td>\n",
              "      <td>N</td>\n",
              "      <td>848</td>\n",
              "      <td>83.964749</td>\n",
              "      <td>0.099015</td>\n",
              "    </tr>\n",
              "  </tbody>\n",
              "</table>\n",
              "</div>\n",
              "    <div class=\"colab-df-buttons\">\n",
              "\n",
              "  <div class=\"colab-df-container\">\n",
              "    <button class=\"colab-df-convert\" onclick=\"convertToInteractive('df-aadf2f33-97c8-4238-87a6-654962b0b5b4')\"\n",
              "            title=\"Convert this dataframe to an interactive table.\"\n",
              "            style=\"display:none;\">\n",
              "\n",
              "  <svg xmlns=\"http://www.w3.org/2000/svg\" height=\"24px\" viewBox=\"0 -960 960 960\">\n",
              "    <path d=\"M120-120v-720h720v720H120Zm60-500h600v-160H180v160Zm220 220h160v-160H400v160Zm0 220h160v-160H400v160ZM180-400h160v-160H180v160Zm440 0h160v-160H620v160ZM180-180h160v-160H180v160Zm440 0h160v-160H620v160Z\"/>\n",
              "  </svg>\n",
              "    </button>\n",
              "\n",
              "  <style>\n",
              "    .colab-df-container {\n",
              "      display:flex;\n",
              "      gap: 12px;\n",
              "    }\n",
              "\n",
              "    .colab-df-convert {\n",
              "      background-color: #E8F0FE;\n",
              "      border: none;\n",
              "      border-radius: 50%;\n",
              "      cursor: pointer;\n",
              "      display: none;\n",
              "      fill: #1967D2;\n",
              "      height: 32px;\n",
              "      padding: 0 0 0 0;\n",
              "      width: 32px;\n",
              "    }\n",
              "\n",
              "    .colab-df-convert:hover {\n",
              "      background-color: #E2EBFA;\n",
              "      box-shadow: 0px 1px 2px rgba(60, 64, 67, 0.3), 0px 1px 3px 1px rgba(60, 64, 67, 0.15);\n",
              "      fill: #174EA6;\n",
              "    }\n",
              "\n",
              "    .colab-df-buttons div {\n",
              "      margin-bottom: 4px;\n",
              "    }\n",
              "\n",
              "    [theme=dark] .colab-df-convert {\n",
              "      background-color: #3B4455;\n",
              "      fill: #D2E3FC;\n",
              "    }\n",
              "\n",
              "    [theme=dark] .colab-df-convert:hover {\n",
              "      background-color: #434B5C;\n",
              "      box-shadow: 0px 1px 3px 1px rgba(0, 0, 0, 0.15);\n",
              "      filter: drop-shadow(0px 1px 2px rgba(0, 0, 0, 0.3));\n",
              "      fill: #FFFFFF;\n",
              "    }\n",
              "  </style>\n",
              "\n",
              "    <script>\n",
              "      const buttonEl =\n",
              "        document.querySelector('#df-aadf2f33-97c8-4238-87a6-654962b0b5b4 button.colab-df-convert');\n",
              "      buttonEl.style.display =\n",
              "        google.colab.kernel.accessAllowed ? 'block' : 'none';\n",
              "\n",
              "      async function convertToInteractive(key) {\n",
              "        const element = document.querySelector('#df-aadf2f33-97c8-4238-87a6-654962b0b5b4');\n",
              "        const dataTable =\n",
              "          await google.colab.kernel.invokeFunction('convertToInteractive',\n",
              "                                                    [key], {});\n",
              "        if (!dataTable) return;\n",
              "\n",
              "        const docLinkHtml = 'Like what you see? Visit the ' +\n",
              "          '<a target=\"_blank\" href=https://colab.research.google.com/notebooks/data_table.ipynb>data table notebook</a>'\n",
              "          + ' to learn more about interactive tables.';\n",
              "        element.innerHTML = '';\n",
              "        dataTable['output_type'] = 'display_data';\n",
              "        await google.colab.output.renderOutput(dataTable, element);\n",
              "        const docLink = document.createElement('div');\n",
              "        docLink.innerHTML = docLinkHtml;\n",
              "        element.appendChild(docLink);\n",
              "      }\n",
              "    </script>\n",
              "  </div>\n",
              "\n",
              "\n",
              "<div id=\"df-60f910bc-8015-486c-af01-ac43f71a75b1\">\n",
              "  <button class=\"colab-df-quickchart\" onclick=\"quickchart('df-60f910bc-8015-486c-af01-ac43f71a75b1')\"\n",
              "            title=\"Suggest charts\"\n",
              "            style=\"display:none;\">\n",
              "\n",
              "<svg xmlns=\"http://www.w3.org/2000/svg\" height=\"24px\"viewBox=\"0 0 24 24\"\n",
              "     width=\"24px\">\n",
              "    <g>\n",
              "        <path d=\"M19 3H5c-1.1 0-2 .9-2 2v14c0 1.1.9 2 2 2h14c1.1 0 2-.9 2-2V5c0-1.1-.9-2-2-2zM9 17H7v-7h2v7zm4 0h-2V7h2v10zm4 0h-2v-4h2v4z\"/>\n",
              "    </g>\n",
              "</svg>\n",
              "  </button>\n",
              "\n",
              "<style>\n",
              "  .colab-df-quickchart {\n",
              "      --bg-color: #E8F0FE;\n",
              "      --fill-color: #1967D2;\n",
              "      --hover-bg-color: #E2EBFA;\n",
              "      --hover-fill-color: #174EA6;\n",
              "      --disabled-fill-color: #AAA;\n",
              "      --disabled-bg-color: #DDD;\n",
              "  }\n",
              "\n",
              "  [theme=dark] .colab-df-quickchart {\n",
              "      --bg-color: #3B4455;\n",
              "      --fill-color: #D2E3FC;\n",
              "      --hover-bg-color: #434B5C;\n",
              "      --hover-fill-color: #FFFFFF;\n",
              "      --disabled-bg-color: #3B4455;\n",
              "      --disabled-fill-color: #666;\n",
              "  }\n",
              "\n",
              "  .colab-df-quickchart {\n",
              "    background-color: var(--bg-color);\n",
              "    border: none;\n",
              "    border-radius: 50%;\n",
              "    cursor: pointer;\n",
              "    display: none;\n",
              "    fill: var(--fill-color);\n",
              "    height: 32px;\n",
              "    padding: 0;\n",
              "    width: 32px;\n",
              "  }\n",
              "\n",
              "  .colab-df-quickchart:hover {\n",
              "    background-color: var(--hover-bg-color);\n",
              "    box-shadow: 0 1px 2px rgba(60, 64, 67, 0.3), 0 1px 3px 1px rgba(60, 64, 67, 0.15);\n",
              "    fill: var(--button-hover-fill-color);\n",
              "  }\n",
              "\n",
              "  .colab-df-quickchart-complete:disabled,\n",
              "  .colab-df-quickchart-complete:disabled:hover {\n",
              "    background-color: var(--disabled-bg-color);\n",
              "    fill: var(--disabled-fill-color);\n",
              "    box-shadow: none;\n",
              "  }\n",
              "\n",
              "  .colab-df-spinner {\n",
              "    border: 2px solid var(--fill-color);\n",
              "    border-color: transparent;\n",
              "    border-bottom-color: var(--fill-color);\n",
              "    animation:\n",
              "      spin 1s steps(1) infinite;\n",
              "  }\n",
              "\n",
              "  @keyframes spin {\n",
              "    0% {\n",
              "      border-color: transparent;\n",
              "      border-bottom-color: var(--fill-color);\n",
              "      border-left-color: var(--fill-color);\n",
              "    }\n",
              "    20% {\n",
              "      border-color: transparent;\n",
              "      border-left-color: var(--fill-color);\n",
              "      border-top-color: var(--fill-color);\n",
              "    }\n",
              "    30% {\n",
              "      border-color: transparent;\n",
              "      border-left-color: var(--fill-color);\n",
              "      border-top-color: var(--fill-color);\n",
              "      border-right-color: var(--fill-color);\n",
              "    }\n",
              "    40% {\n",
              "      border-color: transparent;\n",
              "      border-right-color: var(--fill-color);\n",
              "      border-top-color: var(--fill-color);\n",
              "    }\n",
              "    60% {\n",
              "      border-color: transparent;\n",
              "      border-right-color: var(--fill-color);\n",
              "    }\n",
              "    80% {\n",
              "      border-color: transparent;\n",
              "      border-right-color: var(--fill-color);\n",
              "      border-bottom-color: var(--fill-color);\n",
              "    }\n",
              "    90% {\n",
              "      border-color: transparent;\n",
              "      border-bottom-color: var(--fill-color);\n",
              "    }\n",
              "  }\n",
              "</style>\n",
              "\n",
              "  <script>\n",
              "    async function quickchart(key) {\n",
              "      const quickchartButtonEl =\n",
              "        document.querySelector('#' + key + ' button');\n",
              "      quickchartButtonEl.disabled = true;  // To prevent multiple clicks.\n",
              "      quickchartButtonEl.classList.add('colab-df-spinner');\n",
              "      try {\n",
              "        const charts = await google.colab.kernel.invokeFunction(\n",
              "            'suggestCharts', [key], {});\n",
              "      } catch (error) {\n",
              "        console.error('Error during call to suggestCharts:', error);\n",
              "      }\n",
              "      quickchartButtonEl.classList.remove('colab-df-spinner');\n",
              "      quickchartButtonEl.classList.add('colab-df-quickchart-complete');\n",
              "    }\n",
              "    (() => {\n",
              "      let quickchartButtonEl =\n",
              "        document.querySelector('#df-60f910bc-8015-486c-af01-ac43f71a75b1 button');\n",
              "      quickchartButtonEl.style.display =\n",
              "        google.colab.kernel.accessAllowed ? 'block' : 'none';\n",
              "    })();\n",
              "  </script>\n",
              "</div>\n",
              "    </div>\n",
              "  </div>\n"
            ]
          },
          "metadata": {},
          "execution_count": 8
        }
      ]
    },
    {
      "cell_type": "code",
      "source": [
        "temp = df[df['passenger_count'] > 6]\n",
        "plt.hist(temp['passenger_count'])"
      ],
      "metadata": {
        "colab": {
          "base_uri": "https://localhost:8080/",
          "height": 482
        },
        "id": "MB6pdqJGUy-f",
        "outputId": "60241279-8e9e-4b4f-a06e-2013452c9761"
      },
      "execution_count": 19,
      "outputs": [
        {
          "output_type": "execute_result",
          "data": {
            "text/plain": [
              "(array([1., 0., 0., 0., 0., 0., 0., 0., 0., 1.]),\n",
              " array([7. , 7.2, 7.4, 7.6, 7.8, 8. , 8.2, 8.4, 8.6, 8.8, 9. ]),\n",
              " <BarContainer object of 10 artists>)"
            ]
          },
          "metadata": {},
          "execution_count": 19
        },
        {
          "output_type": "display_data",
          "data": {
            "text/plain": [
              "<Figure size 640x480 with 1 Axes>"
            ],
            "image/png": "[encoded data removed]"
          },
          "metadata": {}
        }
      ]
    },
    {
      "cell_type": "code",
      "source": [
        "from datetime import datetime, timedelta\n",
        "\n",
        "def convert_to_datetime(str_datetime):\n",
        "  return datetime(int(str_datetime[:4]), int(str_datetime[5:7]), int(str_datetime[8:10]), int(str_datetime[11:13]), int(str_datetime[14:16]), int(str_datetime[17:19]))\n",
        "\n",
        "count = 0\n",
        "for index, row in df.iterrows():\n",
        "  temp = (convert_to_datetime(row[3]) - convert_to_datetime(row[2])).total_seconds()\n",
        "  if temp - int(row[-3]) != 0:\n",
        "    print(index)\n",
        "    print(temp - int(row[-3]))\n",
        "    count += 1\n",
        "print(count)"
      ],
      "metadata": {
        "colab": {
          "base_uri": "https://localhost:8080/"
        },
        "id": "93qxdPGwWob9",
        "outputId": "099b0902-7206-459a-cbc3-4bba4e7bec7e"
      },
      "execution_count": 43,
      "outputs": [
        {
          "output_type": "stream",
          "name": "stdout",
          "text": [
            "0\n"
          ]
        }
      ]
    },
    {
      "cell_type": "code",
      "source": [
        "df.iloc[21813]"
      ],
      "metadata": {
        "colab": {
          "base_uri": "https://localhost:8080/"
        },
        "id": "w8hULlTMaOVB",
        "outputId": "9f795861-3ad0-4929-efd2-c6b8238f57fd"
      },
      "execution_count": 28,
      "outputs": [
        {
          "output_type": "execute_result",
          "data": {
            "text/plain": [
              "id                              id1864733\n",
              "vendor_id                               1\n",
              "pickup_datetime       2016-01-05 00:19:42\n",
              "dropoff_datetime      2016-01-27 11:08:38\n",
              "passenger_count                         1\n",
              "pickup_longitude                -1.287872\n",
              "pickup_latitude                  0.709364\n",
              "dropoff_longitude                -1.29079\n",
              "dropoff_latitude                 0.711625\n",
              "store_and_fwd_flag                      N\n",
              "trip_duration                     1939736\n",
              "metres                         410.404532\n",
              "speed                            0.000212\n",
              "Name: 21813, dtype: object"
            ]
          },
          "metadata": {},
          "execution_count": 28
        }
      ]
    },
    {
      "cell_type": "code",
      "source": [
        "for x in geo_columns:\n",
        "  plt.hist(df[x])\n",
        "  print(x)\n",
        "  plt.show()"
      ],
      "metadata": {
        "colab": {
          "base_uri": "https://localhost:8080/",
          "height": 1000
        },
        "id": "tZIcmh5Jg12w",
        "outputId": "95447585-07dd-416a-9888-2ce4beb3222d"
      },
      "execution_count": 51,
      "outputs": [
        {
          "output_type": "stream",
          "name": "stdout",
          "text": [
            "pickup_longitude\n"
          ]
        },
        {
          "output_type": "display_data",
          "data": {
            "text/plain": [
              "<Figure size 640x480 with 1 Axes>"
            ],
            "image/png": "[encoded data removed]"
          },
          "metadata": {}
        },
        {
          "output_type": "stream",
          "name": "stdout",
          "text": [
            "pickup_latitude\n"
          ]
        },
        {
          "output_type": "display_data",
          "data": {
            "text/plain": [
              "<Figure size 640x480 with 1 Axes>"
            ],
            "image/png": "[encoded data removed]"
          },
          "metadata": {}
        },
        {
          "output_type": "stream",
          "name": "stdout",
          "text": [
            "dropoff_longitude\n"
          ]
        },
        {
          "output_type": "display_data",
          "data": {
            "text/plain": [
              "<Figure size 640x480 with 1 Axes>"
            ],
            "image/png": "[encoded data removed]"
          },
          "metadata": {}
        },
        {
          "output_type": "stream",
          "name": "stdout",
          "text": [
            "dropoff_latitude\n"
          ]
        },
        {
          "output_type": "display_data",
          "data": {
            "text/plain": [
              "<Figure size 640x480 with 1 Axes>"
            ],
            "image/png": "[encoded data removed]"
          },
          "metadata": {}
        }
      ]
    },
    {
      "cell_type": "code",
      "source": [
        "for x in geo_columns:\n",
        "  temp = round(df[x], 1)\n",
        "  print(x)\n",
        "  print(temp.unique())"
      ],
      "metadata": {
        "colab": {
          "base_uri": "https://localhost:8080/"
        },
        "id": "wuE0nmhSjl-E",
        "outputId": "4b4fdb43-e560-4053-9989-cdc93e19c1ae"
      },
      "execution_count": 54,
      "outputs": [
        {
          "output_type": "stream",
          "name": "stdout",
          "text": [
            "pickup_longitude\n",
            "[-1.3 -1.2 -1.4 -2.1]\n",
            "pickup_latitude\n",
            "[0.7 0.9 0.6 0.8]\n",
            "dropoff_longitude\n",
            "[-1.3 -1.2 -1.4 -2.1]\n",
            "dropoff_latitude\n",
            "[0.7 0.6 0.8]\n"
          ]
        }
      ]
    },
    {
      "cell_type": "code",
      "source": [
        "temp = df[df['pickup_longitude'] < -1.5]\n",
        "plt.hist(temp['pickup_longitude'])"
      ],
      "metadata": {
        "colab": {
          "base_uri": "https://localhost:8080/",
          "height": 517
        },
        "id": "ijnLVn4vkaxR",
        "outputId": "ab8a9b59-9cb2-4d8e-a6cb-f75f7192b2b7"
      },
      "execution_count": 55,
      "outputs": [
        {
          "output_type": "execute_result",
          "data": {
            "text/plain": [
              "(array([0., 0., 0., 0., 0., 1., 0., 0., 0., 0.]),\n",
              " array([-2.62813829, -2.52813829, -2.42813829, -2.32813829, -2.22813829,\n",
              "        -2.12813829, -2.02813829, -1.92813829, -1.82813829, -1.72813829,\n",
              "        -1.62813829]),\n",
              " <BarContainer object of 10 artists>)"
            ]
          },
          "metadata": {},
          "execution_count": 55
        },
        {
          "output_type": "display_data",
          "data": {
            "text/plain": [
              "<Figure size 640x480 with 1 Axes>"
            ],
            "image/png": "[encoded data removed]"
          },
          "metadata": {}
        }
      ]
    }
  ]
}