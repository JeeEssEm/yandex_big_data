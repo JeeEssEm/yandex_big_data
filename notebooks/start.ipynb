{
 "cells": [
  {
   "cell_type": "code",
   "execution_count": 3,
   "metadata": {
    "pycharm": {
     "name": "#%%\n"
    }
   },
   "outputs": [
    {
     "name": "stdout",
     "output_type": "stream",
     "text": [
      "               id  vendor_id      pickup_datetime     dropoff_datetime  \\\n",
      "0       id1080784          2  2016-02-29 16:40:21  2016-02-29 16:47:01   \n",
      "1       id0889885          1  2016-03-11 23:35:37  2016-03-11 23:53:57   \n",
      "2       id0857912          2  2016-02-21 17:59:33  2016-02-21 18:26:48   \n",
      "3       id3744273          2  2016-01-05 09:44:31  2016-01-05 10:03:32   \n",
      "4       id0232939          1  2016-02-17 06:42:23  2016-02-17 06:56:31   \n",
      "...           ...        ...                  ...                  ...   \n",
      "729317  id3905982          2  2016-05-21 13:29:38  2016-05-21 13:34:34   \n",
      "729318  id0102861          1  2016-02-22 00:43:11  2016-02-22 00:48:26   \n",
      "729319  id0439699          1  2016-04-15 18:56:48  2016-04-15 19:08:01   \n",
      "729320  id2078912          1  2016-06-19 09:50:47  2016-06-19 09:58:14   \n",
      "729321  id1053441          2  2016-01-01 17:24:16  2016-01-01 17:44:40   \n",
      "\n",
      "        passenger_count  pickup_longitude  pickup_latitude  dropoff_longitude  \\\n",
      "0                     1        -73.953918        40.778873         -73.963875   \n",
      "1                     2        -73.988312        40.731743         -73.994751   \n",
      "2                     2        -73.997314        40.721458         -73.948029   \n",
      "3                     6        -73.961670        40.759720         -73.956779   \n",
      "4                     1        -74.017120        40.708469         -73.988182   \n",
      "...                 ...               ...              ...                ...   \n",
      "729317                2        -73.965919        40.789780         -73.952637   \n",
      "729318                1        -73.996666        40.737434         -74.001320   \n",
      "729319                1        -73.997849        40.761696         -74.001488   \n",
      "729320                1        -74.006706        40.708244         -74.013550   \n",
      "729321                4        -74.003342        40.743839         -73.945847   \n",
      "\n",
      "        dropoff_latitude store_and_fwd_flag  trip_duration  \n",
      "0              40.771164                  N            400  \n",
      "1              40.694931                  N           1100  \n",
      "2              40.774918                  N           1635  \n",
      "3              40.780628                  N           1141  \n",
      "4              40.740631                  N            848  \n",
      "...                  ...                ...            ...  \n",
      "729317         40.789181                  N            296  \n",
      "729318         40.731911                  N            315  \n",
      "729319         40.741207                  N            673  \n",
      "729320         40.713814                  N            447  \n",
      "729321         40.712841                  N           1224  \n",
      "\n",
      "[729322 rows x 11 columns]\n"
     ]
    }
   ],
   "source": [
    "import pandas as pd\n",
    "\n",
    "filename = 'nyc_taxi_trip_duration.csv'\n",
    "df = pd.read_csv(filename)\n",
    "print(df)\n"
   ]
  },
  {
   "cell_type": "code",
   "execution_count": null,
   "metadata": {
    "pycharm": {
     "name": "#%%\n"
    }
   },
   "outputs": [],
   "source": []
  }
 ],
 "metadata": {
  "kernelspec": {
   "display_name": "Python 3 (ipykernel)",
   "language": "python",
   "name": "python3"
  },
  "language_info": {
   "codemirror_mode": {
    "name": "ipython",
    "version": 3
   },
   "file_extension": ".py",
   "mimetype": "text/x-python",
   "name": "python",
   "nbconvert_exporter": "python",
   "pygments_lexer": "ipython3",
   "version": "3.9.10"
  }
 },
 "nbformat": 4,
 "nbformat_minor": 1
}